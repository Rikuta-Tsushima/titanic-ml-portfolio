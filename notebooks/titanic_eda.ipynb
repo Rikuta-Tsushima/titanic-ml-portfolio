{
 "cells": [
  {
   "cell_type": "code",
   "execution_count": 1,
   "id": "23306e61-6586-42d3-b65a-a5c8a69efe0b",
   "metadata": {},
   "outputs": [],
   "source": [
    "import pandas as pd\n",
    "import numpy as np\n",
    "import matplotlib.pyplot as plt"
   ]
  },
  {
   "cell_type": "code",
   "execution_count": 2,
   "id": "a30d2c26-4831-4fdc-b8b4-ea8f041f9022",
   "metadata": {},
   "outputs": [
    {
     "name": "stdout",
     "output_type": "stream",
     "text": [
      "train shape: (891, 12)\n",
      "test  shape: (418, 11)\n",
      "\n",
      "train columns: ['PassengerId', 'Survived', 'Pclass', 'Name', 'Sex', 'Age', 'SibSp', 'Parch', 'Ticket', 'Fare', 'Cabin', 'Embarked']\n",
      "\n",
      "先頭3行（train）\n"
     ]
    },
    {
     "data": {
      "text/html": [
       "<div>\n",
       "<style scoped>\n",
       "    .dataframe tbody tr th:only-of-type {\n",
       "        vertical-align: middle;\n",
       "    }\n",
       "\n",
       "    .dataframe tbody tr th {\n",
       "        vertical-align: top;\n",
       "    }\n",
       "\n",
       "    .dataframe thead th {\n",
       "        text-align: right;\n",
       "    }\n",
       "</style>\n",
       "<table border=\"1\" class=\"dataframe\">\n",
       "  <thead>\n",
       "    <tr style=\"text-align: right;\">\n",
       "      <th></th>\n",
       "      <th>PassengerId</th>\n",
       "      <th>Survived</th>\n",
       "      <th>Pclass</th>\n",
       "      <th>Name</th>\n",
       "      <th>Sex</th>\n",
       "      <th>Age</th>\n",
       "      <th>SibSp</th>\n",
       "      <th>Parch</th>\n",
       "      <th>Ticket</th>\n",
       "      <th>Fare</th>\n",
       "      <th>Cabin</th>\n",
       "      <th>Embarked</th>\n",
       "    </tr>\n",
       "  </thead>\n",
       "  <tbody>\n",
       "    <tr>\n",
       "      <th>0</th>\n",
       "      <td>1</td>\n",
       "      <td>0</td>\n",
       "      <td>3</td>\n",
       "      <td>Braund, Mr. Owen Harris</td>\n",
       "      <td>male</td>\n",
       "      <td>22.0</td>\n",
       "      <td>1</td>\n",
       "      <td>0</td>\n",
       "      <td>A/5 21171</td>\n",
       "      <td>7.2500</td>\n",
       "      <td>NaN</td>\n",
       "      <td>S</td>\n",
       "    </tr>\n",
       "    <tr>\n",
       "      <th>1</th>\n",
       "      <td>2</td>\n",
       "      <td>1</td>\n",
       "      <td>1</td>\n",
       "      <td>Cumings, Mrs. John Bradley (Florence Briggs Th...</td>\n",
       "      <td>female</td>\n",
       "      <td>38.0</td>\n",
       "      <td>1</td>\n",
       "      <td>0</td>\n",
       "      <td>PC 17599</td>\n",
       "      <td>71.2833</td>\n",
       "      <td>C85</td>\n",
       "      <td>C</td>\n",
       "    </tr>\n",
       "    <tr>\n",
       "      <th>2</th>\n",
       "      <td>3</td>\n",
       "      <td>1</td>\n",
       "      <td>3</td>\n",
       "      <td>Heikkinen, Miss. Laina</td>\n",
       "      <td>female</td>\n",
       "      <td>26.0</td>\n",
       "      <td>0</td>\n",
       "      <td>0</td>\n",
       "      <td>STON/O2. 3101282</td>\n",
       "      <td>7.9250</td>\n",
       "      <td>NaN</td>\n",
       "      <td>S</td>\n",
       "    </tr>\n",
       "  </tbody>\n",
       "</table>\n",
       "</div>"
      ],
      "text/plain": [
       "   PassengerId  Survived  Pclass  \\\n",
       "0            1         0       3   \n",
       "1            2         1       1   \n",
       "2            3         1       3   \n",
       "\n",
       "                                                Name     Sex   Age  SibSp  \\\n",
       "0                            Braund, Mr. Owen Harris    male  22.0      1   \n",
       "1  Cumings, Mrs. John Bradley (Florence Briggs Th...  female  38.0      1   \n",
       "2                             Heikkinen, Miss. Laina  female  26.0      0   \n",
       "\n",
       "   Parch            Ticket     Fare Cabin Embarked  \n",
       "0      0         A/5 21171   7.2500   NaN        S  \n",
       "1      0          PC 17599  71.2833   C85        C  \n",
       "2      0  STON/O2. 3101282   7.9250   NaN        S  "
      ]
     },
     "metadata": {},
     "output_type": "display_data"
    }
   ],
   "source": [
    "train_path = \"data/train.csv\"\n",
    "test_path  = \"data/test.csv\"\n",
    "\n",
    "train = pd.read_csv(train_path)\n",
    "test  = pd.read_csv(test_path)\n",
    "\n",
    "print(\"train shape:\", train.shape)\n",
    "print(\"test  shape:\", test.shape)\n",
    "print()\n",
    "print(\"train columns:\", list(train.columns))\n",
    "print()\n",
    "print(\"先頭3行（train）\")\n",
    "display(train.head(3))"
   ]
  },
  {
   "cell_type": "code",
   "execution_count": 3,
   "id": "c8695831-e4b0-48bd-810f-04df297a308d",
   "metadata": {},
   "outputs": [
    {
     "data": {
      "text/html": [
       "<div>\n",
       "<style scoped>\n",
       "    .dataframe tbody tr th:only-of-type {\n",
       "        vertical-align: middle;\n",
       "    }\n",
       "\n",
       "    .dataframe tbody tr th {\n",
       "        vertical-align: top;\n",
       "    }\n",
       "\n",
       "    .dataframe thead th {\n",
       "        text-align: right;\n",
       "    }\n",
       "</style>\n",
       "<table border=\"1\" class=\"dataframe\">\n",
       "  <thead>\n",
       "    <tr style=\"text-align: right;\">\n",
       "      <th></th>\n",
       "      <th>Survived</th>\n",
       "      <th>Pclass</th>\n",
       "      <th>Age</th>\n",
       "      <th>SibSp</th>\n",
       "      <th>Parch</th>\n",
       "      <th>Fare</th>\n",
       "    </tr>\n",
       "  </thead>\n",
       "  <tbody>\n",
       "    <tr>\n",
       "      <th>count</th>\n",
       "      <td>891.000000</td>\n",
       "      <td>891.000000</td>\n",
       "      <td>714.000000</td>\n",
       "      <td>891.000000</td>\n",
       "      <td>891.000000</td>\n",
       "      <td>891.000000</td>\n",
       "    </tr>\n",
       "    <tr>\n",
       "      <th>mean</th>\n",
       "      <td>0.383838</td>\n",
       "      <td>2.308642</td>\n",
       "      <td>29.699118</td>\n",
       "      <td>0.523008</td>\n",
       "      <td>0.381594</td>\n",
       "      <td>32.204208</td>\n",
       "    </tr>\n",
       "    <tr>\n",
       "      <th>std</th>\n",
       "      <td>0.486592</td>\n",
       "      <td>0.836071</td>\n",
       "      <td>14.526497</td>\n",
       "      <td>1.102743</td>\n",
       "      <td>0.806057</td>\n",
       "      <td>49.693429</td>\n",
       "    </tr>\n",
       "    <tr>\n",
       "      <th>min</th>\n",
       "      <td>0.000000</td>\n",
       "      <td>1.000000</td>\n",
       "      <td>0.420000</td>\n",
       "      <td>0.000000</td>\n",
       "      <td>0.000000</td>\n",
       "      <td>0.000000</td>\n",
       "    </tr>\n",
       "    <tr>\n",
       "      <th>25%</th>\n",
       "      <td>0.000000</td>\n",
       "      <td>2.000000</td>\n",
       "      <td>20.125000</td>\n",
       "      <td>0.000000</td>\n",
       "      <td>0.000000</td>\n",
       "      <td>7.910400</td>\n",
       "    </tr>\n",
       "    <tr>\n",
       "      <th>50%</th>\n",
       "      <td>0.000000</td>\n",
       "      <td>3.000000</td>\n",
       "      <td>28.000000</td>\n",
       "      <td>0.000000</td>\n",
       "      <td>0.000000</td>\n",
       "      <td>14.454200</td>\n",
       "    </tr>\n",
       "    <tr>\n",
       "      <th>75%</th>\n",
       "      <td>1.000000</td>\n",
       "      <td>3.000000</td>\n",
       "      <td>38.000000</td>\n",
       "      <td>1.000000</td>\n",
       "      <td>0.000000</td>\n",
       "      <td>31.000000</td>\n",
       "    </tr>\n",
       "    <tr>\n",
       "      <th>max</th>\n",
       "      <td>1.000000</td>\n",
       "      <td>3.000000</td>\n",
       "      <td>80.000000</td>\n",
       "      <td>8.000000</td>\n",
       "      <td>6.000000</td>\n",
       "      <td>512.329200</td>\n",
       "    </tr>\n",
       "  </tbody>\n",
       "</table>\n",
       "</div>"
      ],
      "text/plain": [
       "         Survived      Pclass         Age       SibSp       Parch        Fare\n",
       "count  891.000000  891.000000  714.000000  891.000000  891.000000  891.000000\n",
       "mean     0.383838    2.308642   29.699118    0.523008    0.381594   32.204208\n",
       "std      0.486592    0.836071   14.526497    1.102743    0.806057   49.693429\n",
       "min      0.000000    1.000000    0.420000    0.000000    0.000000    0.000000\n",
       "25%      0.000000    2.000000   20.125000    0.000000    0.000000    7.910400\n",
       "50%      0.000000    3.000000   28.000000    0.000000    0.000000   14.454200\n",
       "75%      1.000000    3.000000   38.000000    1.000000    0.000000   31.000000\n",
       "max      1.000000    3.000000   80.000000    8.000000    6.000000  512.329200"
      ]
     },
     "execution_count": 3,
     "metadata": {},
     "output_type": "execute_result"
    }
   ],
   "source": [
    "num_cols = [\"Survived\",\"Pclass\", \"Age\", \"SibSp\", \"Parch\", \"Fare\"]\n",
    "desc = train[num_cols].describe()  \n",
    "desc"
   ]
  },
  {
   "cell_type": "code",
   "execution_count": 4,
   "id": "3b7fb0af-2a04-41ac-b715-87f9450412a6",
   "metadata": {},
   "outputs": [
    {
     "name": "stdout",
     "output_type": "stream",
     "text": [
      "<class 'pandas.core.frame.DataFrame'>\n",
      "RangeIndex: 891 entries, 0 to 890\n",
      "Data columns (total 12 columns):\n",
      " #   Column       Non-Null Count  Dtype  \n",
      "---  ------       --------------  -----  \n",
      " 0   PassengerId  891 non-null    int64  \n",
      " 1   Survived     891 non-null    int64  \n",
      " 2   Pclass       891 non-null    int64  \n",
      " 3   Name         891 non-null    object \n",
      " 4   Sex          891 non-null    object \n",
      " 5   Age          714 non-null    float64\n",
      " 6   SibSp        891 non-null    int64  \n",
      " 7   Parch        891 non-null    int64  \n",
      " 8   Ticket       891 non-null    object \n",
      " 9   Fare         891 non-null    float64\n",
      " 10  Cabin        204 non-null    object \n",
      " 11  Embarked     889 non-null    object \n",
      "dtypes: float64(2), int64(5), object(5)\n",
      "memory usage: 83.7+ KB\n"
     ]
    }
   ],
   "source": [
    "train.info()"
   ]
  },
  {
   "cell_type": "code",
   "execution_count": 5,
   "id": "5ccbf185-acaf-4d00-8c8b-ef903c1a8512",
   "metadata": {},
   "outputs": [
    {
     "name": "stdout",
     "output_type": "stream",
     "text": [
      "Cabin          687\n",
      "Age            177\n",
      "Embarked         2\n",
      "PassengerId      0\n",
      "Survived         0\n",
      "Pclass           0\n",
      "Name             0\n",
      "Sex              0\n",
      "SibSp            0\n",
      "Parch            0\n",
      "Ticket           0\n",
      "Fare             0\n",
      "dtype: int64\n"
     ]
    }
   ],
   "source": [
    "print(train.isna().sum().sort_values(ascending=False))"
   ]
  },
  {
   "cell_type": "code",
   "execution_count": 6,
   "id": "de18fa3d-33e2-4fe1-8589-c987b8ad0f84",
   "metadata": {},
   "outputs": [
    {
     "data": {
      "image/png": "[encoded data removed]",
      "text/plain": [
       "<Figure size 600x400 with 1 Axes>"
      ]
     },
     "metadata": {},
     "output_type": "display_data"
    },
    {
     "name": "stdout",
     "output_type": "stream",
     "text": [
      "0.10    14.0\n",
      "0.25    20.1\n",
      "0.50    28.0\n",
      "0.75    38.0\n",
      "0.90    50.0\n",
      "Name: Age, dtype: float64\n"
     ]
    }
   ],
   "source": [
    "ages = train[\"Age\"].dropna()\n",
    "\n",
    "plt.figure(figsize=(6,4))\n",
    "plt.hist(ages, bins=20, edgecolor=\"black\")\n",
    "plt.xlabel(\"Age\")\n",
    "plt.ylabel(\"Count\")\n",
    "plt.title(\"Age distribution (train)\")\n",
    "plt.show()\n",
    "\n",
    "#分位点でざっくり位置を数値でも確認してみる\n",
    "print(ages.quantile([0.1, 0.25, 0.5, 0.75, 0.9]).round(1))"
   ]
  },
  {
   "cell_type": "code",
   "execution_count": 7,
   "id": "ea3841a8-2b48-4222-922e-c4d18066307e",
   "metadata": {},
   "outputs": [
    {
     "name": "stdout",
     "output_type": "stream",
     "text": [
      "Overall Age median: 28.0\n",
      "\n",
      "               Age_median  Age_non_null\n",
      "Pclass Sex                             \n",
      "1      female        35.0            85\n",
      "       male          40.0           101\n",
      "2      female        28.0            74\n",
      "       male          30.0            99\n",
      "3      female        21.5           102\n",
      "       male          25.0           253\n"
     ]
    }
   ],
   "source": [
    "#以下では、全体の中央値とクラス・性別等で中央値がずれているか確認する（欠損値補完の際の参考のため）\n",
    "\n",
    "# 全体の中央値\n",
    "overall_median = train[\"Age\"].median()\n",
    "print(\"Overall Age median:\", round(overall_median, 1))\n",
    "print()\n",
    "\n",
    "# Pclass×Sexごとの年齢中央値と、有効データ数（欠損を除いた数）\n",
    "grp = train.groupby([\"Pclass\", \"Sex\"])[\"Age\"]\n",
    "med = grp.median().round(1)\n",
    "cnt = grp.apply(lambda s: s.notna().sum())\n",
    "\n",
    "summary = pd.DataFrame({\n",
    "    \"Age_median\": med,\n",
    "    \"Age_non_null\": cnt\n",
    "}).sort_index()\n",
    "\n",
    "print(summary)"
   ]
  },
  {
   "cell_type": "code",
   "execution_count": 8,
   "id": "f8b820b2-5a99-4efd-a8b9-e02c4bc6d90b",
   "metadata": {},
   "outputs": [
    {
     "name": "stdout",
     "output_type": "stream",
     "text": [
      "== Sex counts ==\n",
      "Sex\n",
      "male      577\n",
      "female    314\n",
      "Name: count, dtype: int64\n",
      "\n",
      "== Sex ratio ==\n",
      "Sex\n",
      "male      0.648\n",
      "female    0.352\n",
      "Name: proportion, dtype: float64\n",
      "\n",
      "== Survival by Sex ==\n",
      "        survival_rate  count\n",
      "Sex                         \n",
      "female          0.742    314\n",
      "male            0.189    577\n",
      "\n",
      "== Crosstab (row-normalized) ==\n",
      "Survived      0      1\n",
      "Sex                   \n",
      "female    0.258  0.742\n",
      "male      0.811  0.189\n"
     ]
    }
   ],
   "source": [
    "# 性別の人数分布（件数・割合）\n",
    "print(\"== Sex counts ==\")\n",
    "print(train[\"Sex\"].value_counts())\n",
    "print()\n",
    "print(\"== Sex ratio ==\")\n",
    "print(train[\"Sex\"].value_counts(normalize=True).round(3))\n",
    "print()\n",
    "\n",
    "# 性別ごとの生存率（mean=生存率, count=サンプル数）\n",
    "print(\"== Survival by Sex ==\")\n",
    "print(\n",
    "    train.groupby(\"Sex\")[\"Survived\"]\n",
    "         .agg([\"mean\", \"count\"])\n",
    "         .rename(columns={\"mean\":\"survival_rate\"})\n",
    "         .round(3)\n",
    ")\n",
    "\n",
    "# 参考：行方向で正規化したクロス集計（各性別での生存/非生存の割合）\n",
    "print(\"\\n== Crosstab (row-normalized) ==\")\n",
    "print(pd.crosstab(train[\"Sex\"], train[\"Survived\"], normalize=\"index\").round(3))"
   ]
  },
  {
   "cell_type": "code",
   "execution_count": 9,
   "id": "cb7bd744-7a06-4402-88f3-64da0b1f9435",
   "metadata": {},
   "outputs": [
    {
     "name": "stdout",
     "output_type": "stream",
     "text": [
      "        survival_rate  count\n",
      "Pclass                      \n",
      "1               0.630    216\n",
      "2               0.473    184\n",
      "3               0.242    491\n"
     ]
    }
   ],
   "source": [
    "print(\n",
    "    train.groupby(\"Pclass\")[\"Survived\"]\n",
    "         .agg([\"mean\",\"count\"])\n",
    "         .round(3)\n",
    "         .rename(columns={\"mean\":\"survival_rate\"})\n",
    ")"
   ]
  },
  {
   "cell_type": "code",
   "execution_count": 10,
   "id": "514e4e93-04fd-4e77-a88d-ea64439607ab",
   "metadata": {},
   "outputs": [
    {
     "name": "stdout",
     "output_type": "stream",
     "text": [
      "== Survival rate by Pclass × Sex ==\n",
      "Sex     female   male\n",
      "Pclass               \n",
      "1        0.968  0.369\n",
      "2        0.921  0.157\n",
      "3        0.500  0.135\n",
      "\n",
      "== Sample count by Pclass × Sex ==\n",
      "Sex     female  male\n",
      "Pclass              \n",
      "1           94   122\n",
      "2           76   108\n",
      "3          144   347\n"
     ]
    }
   ],
   "source": [
    "# Sex × Pclass の生存率（mean）と件数（count）\n",
    "rates = (\n",
    "    train.groupby([\"Pclass\", \"Sex\"])[\"Survived\"]\n",
    "         .mean().round(3)\n",
    "         .unstack()  \n",
    ")\n",
    "counts = (\n",
    "    train.groupby([\"Pclass\", \"Sex\"])[\"Survived\"]\n",
    "         .count()\n",
    "         .unstack()\n",
    ")\n",
    "\n",
    "print(\"== Survival rate by Pclass × Sex ==\")\n",
    "print(rates)\n",
    "print()\n",
    "print(\"== Sample count by Pclass × Sex ==\")\n",
    "print(counts)"
   ]
  },
  {
   "cell_type": "code",
   "execution_count": 11,
   "id": "1fc2dd7f-1659-4da4-a146-b9affa253d82",
   "metadata": {},
   "outputs": [
    {
     "name": "stdout",
     "output_type": "stream",
     "text": [
      "mean: 32.2 median: 14.45 max: 512.33\n",
      "\n",
      "quantiles (0.90, 0.95, 0.99):\n",
      "0.90     77.96\n",
      "0.95    112.08\n",
      "0.99    249.01\n",
      "Name: Fare, dtype: float64\n"
     ]
    },
    {
     "data": {
      "image/png": "[encoded data removed]",
      "text/plain": [
       "<Figure size 600x400 with 1 Axes>"
      ]
     },
     "metadata": {},
     "output_type": "display_data"
    },
    {
     "data": {
      "image/png": "[encoded data removed]",
      "text/plain": [
       "<Figure size 600x400 with 1 Axes>"
      ]
     },
     "metadata": {},
     "output_type": "display_data"
    },
    {
     "name": "stdout",
     "output_type": "stream",
     "text": [
      "\n",
      "Pclass-wise Fare median\n",
      "Pclass\n",
      "1    60.29\n",
      "2    14.25\n",
      "3     8.05\n",
      "Name: Fare, dtype: float64\n"
     ]
    }
   ],
   "source": [
    "fares = train[\"Fare\"].dropna()\n",
    "\n",
    "# ざっくり統計\n",
    "print(\"mean:\", round(fares.mean(), 2),\n",
    "      \"median:\", round(fares.median(), 2),\n",
    "      \"max:\", round(fares.max(), 2))\n",
    "print(\"\\nquantiles (0.90, 0.95, 0.99):\")\n",
    "print(fares.quantile([0.90, 0.95, 0.99]).round(2))\n",
    "\n",
    "# ヒスト（線形軸）\n",
    "plt.figure(figsize=(6,4))\n",
    "plt.hist(fares, bins=30, edgecolor=\"black\")\n",
    "plt.xlabel(\"Fare\"); plt.ylabel(\"Count\"); plt.title(\"Fare (linear)\")\n",
    "plt.show()\n",
    "\n",
    "#ヒストグラムを見やすくするため、単調増加である対数関数を利用すると右裾が長い分布で大きい値をギュッと圧縮し、\n",
    "#低～中価格帯を見やすく広げることが目的\n",
    "# ヒスト（log1p軸）※EDA用の“見え方”確認。まだ変換は確定しない\n",
    "plt.figure(figsize=(6,4))\n",
    "plt.hist(np.log1p(fares), bins=30, edgecolor=\"black\")\n",
    "plt.xlabel(\"log1p(Fare)\"); plt.ylabel(\"Count\"); plt.title(\"Fare (log1p)\")\n",
    "plt.show()\n",
    "\n",
    "# 参考：Pclassごとの中央値\n",
    "print(\"\\nPclass-wise Fare median\")\n",
    "print(train.groupby(\"Pclass\")[\"Fare\"].median().round(2))"
   ]
  },
  {
   "cell_type": "code",
   "execution_count": 12,
   "id": "95bfe0ef-6719-4450-92cc-31484c27e78d",
   "metadata": {},
   "outputs": [
    {
     "name": "stdout",
     "output_type": "stream",
     "text": [
      "99th percentile threshold: 249.01\n",
      "Tail size: 9\n",
      "Tail survival rate: 0.778\n",
      "\n",
      "Pclass distribution in tail:\n",
      "Pclass\n",
      "1    9\n",
      "Name: count, dtype: int64\n"
     ]
    }
   ],
   "source": [
    "thr = train[\"Fare\"].quantile(0.99)\n",
    "tail = train[train[\"Fare\"] >= thr]\n",
    "\n",
    "print(\"99th percentile threshold:\",round(thr, 2))\n",
    "print(\"Tail size:\", len(tail))\n",
    "print(\"Tail survival rate:\", round(tail[\"Survived\"].mean(), 3))\n",
    "print()\n",
    "print(\"Pclass distribution in tail:\")\n",
    "print(tail[\"Pclass\"].value_counts())"
   ]
  },
  {
   "cell_type": "code",
   "execution_count": 13,
   "id": "1e426104-df79-4491-8d9a-4cfff7f04c40",
   "metadata": {},
   "outputs": [
    {
     "name": "stdout",
     "output_type": "stream",
     "text": [
      "                 median   mean  count\n",
      "Pclass Survived                      \n",
      "1      0          44.75  64.68     80\n",
      "       1          77.96  95.61    136\n",
      "2      0          13.00  19.41     97\n",
      "       1          21.00  22.06     87\n",
      "3      0           8.05  13.67    372\n",
      "       1           8.52  13.69    119\n",
      "\n",
      "Median gap (Survived=1 - 0) by Pclass\n",
      "Survived  median_gap\n",
      "Pclass              \n",
      "1              33.21\n",
      "2               8.00\n",
      "3               0.47\n"
     ]
    }
   ],
   "source": [
    "# 等級×生死ごとの Fare 統計（中央値・平均・件数）\n",
    "by_pc = (\n",
    "    train.groupby([\"Pclass\",\"Survived\"])[\"Fare\"]\n",
    "         .agg(median=\"median\", mean=\"mean\", count=\"count\")\n",
    "         .round(2)\n",
    ")\n",
    "print(by_pc)\n",
    "\n",
    "# 参考：等級ごとの差の見やすさ用に、Survived=1 と 0 の中央値差も出す\n",
    "diff = (\n",
    "    train.groupby([\"Pclass\",\"Survived\"])[\"Fare\"].median()\n",
    "         .unstack()  # 列: Survived(0/1)\n",
    ")\n",
    "diff[\"median_gap\"] = (diff[1] - diff[0]).round(2)\n",
    "print(\"\\nMedian gap (Survived=1 - 0) by Pclass\")\n",
    "print(diff[[\"median_gap\"]])"
   ]
  },
  {
   "cell_type": "code",
   "execution_count": 14,
   "id": "73cff62f-2c8c-4365-a104-5b5b0dedd2e8",
   "metadata": {},
   "outputs": [
    {
     "name": "stdout",
     "output_type": "stream",
     "text": [
      "== Embarked counts (incl. NaN) ==\n",
      "Embarked\n",
      "S      644\n",
      "C      168\n",
      "Q       77\n",
      "NaN      2\n",
      "Name: count, dtype: int64\n",
      "\n",
      "== Survival by Embarked ==\n",
      "          survival_rate  count\n",
      "Embarked                      \n",
      "C                 0.554    168\n",
      "Q                 0.390     77\n",
      "S                 0.337    644\n",
      "\n",
      "== Pclass mix within Embarked (row-normalized) ==\n",
      "Pclass        1      2      3\n",
      "Embarked                     \n",
      "C         0.506  0.101  0.393\n",
      "Q         0.026  0.039  0.935\n",
      "S         0.197  0.255  0.548\n"
     ]
    }
   ],
   "source": [
    "# Embarked の分布と生存率（NaNも一緒に数える）\n",
    "print(\"== Embarked counts (incl. NaN) ==\")\n",
    "print(train[\"Embarked\"].value_counts(dropna=False))\n",
    "print()\n",
    "\n",
    "print(\"== Survival by Embarked ==\")\n",
    "print(\n",
    "    train.groupby(\"Embarked\")[\"Survived\"]\n",
    "         .agg([\"mean\",\"count\"])\n",
    "         .round(3)\n",
    "         .rename(columns={\"mean\":\"survival_rate\"})\n",
    ")\n",
    "print()\n",
    "\n",
    "print(\"== Pclass mix within Embarked (row-normalized) ==\")\n",
    "print(pd.crosstab(train[\"Embarked\"], train[\"Pclass\"], normalize=\"index\").round(3))"
   ]
  },
  {
   "cell_type": "code",
   "execution_count": 15,
   "id": "77384fb8-810a-489b-865e-41632df32eea",
   "metadata": {},
   "outputs": [
    {
     "data": {
      "text/html": [
       "<div>\n",
       "<style scoped>\n",
       "    .dataframe tbody tr th:only-of-type {\n",
       "        vertical-align: middle;\n",
       "    }\n",
       "\n",
       "    .dataframe tbody tr th {\n",
       "        vertical-align: top;\n",
       "    }\n",
       "\n",
       "    .dataframe thead th {\n",
       "        text-align: right;\n",
       "    }\n",
       "</style>\n",
       "<table border=\"1\" class=\"dataframe\">\n",
       "  <thead>\n",
       "    <tr style=\"text-align: right;\">\n",
       "      <th></th>\n",
       "      <th>PassengerId</th>\n",
       "      <th>Name</th>\n",
       "      <th>Pclass</th>\n",
       "      <th>Sex</th>\n",
       "      <th>Fare</th>\n",
       "      <th>Ticket</th>\n",
       "      <th>Cabin</th>\n",
       "      <th>Survived</th>\n",
       "    </tr>\n",
       "  </thead>\n",
       "  <tbody>\n",
       "    <tr>\n",
       "      <th>61</th>\n",
       "      <td>62</td>\n",
       "      <td>Icard, Miss. Amelie</td>\n",
       "      <td>1</td>\n",
       "      <td>female</td>\n",
       "      <td>80.0</td>\n",
       "      <td>113572</td>\n",
       "      <td>B28</td>\n",
       "      <td>1</td>\n",
       "    </tr>\n",
       "    <tr>\n",
       "      <th>829</th>\n",
       "      <td>830</td>\n",
       "      <td>Stone, Mrs. George Nelson (Martha Evelyn)</td>\n",
       "      <td>1</td>\n",
       "      <td>female</td>\n",
       "      <td>80.0</td>\n",
       "      <td>113572</td>\n",
       "      <td>B28</td>\n",
       "      <td>1</td>\n",
       "    </tr>\n",
       "  </tbody>\n",
       "</table>\n",
       "</div>"
      ],
      "text/plain": [
       "     PassengerId                                       Name  Pclass     Sex  \\\n",
       "61            62                        Icard, Miss. Amelie       1  female   \n",
       "829          830  Stone, Mrs. George Nelson (Martha Evelyn)       1  female   \n",
       "\n",
       "     Fare  Ticket Cabin  Survived  \n",
       "61   80.0  113572   B28         1  \n",
       "829  80.0  113572   B28         1  "
      ]
     },
     "execution_count": 15,
     "metadata": {},
     "output_type": "execute_result"
    }
   ],
   "source": [
    "na_emb = train[train[\"Embarked\"].isna()][\n",
    "    [\"PassengerId\",\"Name\",\"Pclass\",\"Sex\",\"Fare\",\"Ticket\",\"Cabin\",\"Survived\"]\n",
    "]\n",
    "na_emb"
   ]
  },
  {
   "cell_type": "code",
   "execution_count": 16,
   "id": "eec6965c-6bdf-465f-ac16-3c6e931b7a21",
   "metadata": {},
   "outputs": [
    {
     "name": "stdout",
     "output_type": "stream",
     "text": [
      "== Embarked counts in Pclass=1 (incl. NaN) ==\n",
      "Embarked\n",
      "S      127\n",
      "C       85\n",
      "NaN      2\n",
      "Q        2\n",
      "Name: count, dtype: int64\n",
      "\n",
      "== Fare quantiles by Embarked (Pclass=1) ==\n",
      "           0.25   0.50    0.75\n",
      "Embarked                      \n",
      "C         49.50  78.27  110.88\n",
      "Q         90.00  90.00   90.00\n",
      "S         29.25  52.00   83.48\n",
      "\n",
      "== |median - 80| by Embarked (Pclass=1) ==\n",
      "Embarked\n",
      "C     1.73\n",
      "Q    10.00\n",
      "S    28.00\n",
      "Name: Fare, dtype: float64\n",
      "\n",
      "== Near-80 Fare rows (Pclass=1, known Embarked) ==\n",
      "Embarked\n",
      "C    4\n",
      "S    3\n",
      "Name: count, dtype: int64\n"
     ]
    }
   ],
   "source": [
    "# 1等だけに絞る\n",
    "p1 = train[train[\"Pclass\"] == 1].copy()\n",
    "\n",
    "print(\"== Embarked counts in Pclass=1 (incl. NaN) ==\")\n",
    "print(p1[\"Embarked\"].value_counts(dropna=False))\n",
    "print()\n",
    "\n",
    "# 港ごとの運賃分布（四分位点）\n",
    "print(\"== Fare quantiles by Embarked (Pclass=1) ==\")\n",
    "q = p1.groupby(\"Embarked\")[\"Fare\"].quantile([0.25, 0.5, 0.75]).unstack()\n",
    "print(q.round(2))\n",
    "\n",
    "# 「80に一番近い中央値」を確認（港ごと）\n",
    "med = p1.groupby(\"Embarked\")[\"Fare\"].median()\n",
    "print(\"\\n== |median - 80| by Embarked (Pclass=1) ==\")\n",
    "print((med - 80).abs().sort_values().round(2))\n",
    "\n",
    "# 参考：Pclass=1 かつ Fare≈80 の既知データがどの港か\n",
    "near = p1[(p1[\"Fare\"].between(79, 81)) & (p1[\"Embarked\"].notna())]\n",
    "print(\"\\n== Near-80 Fare rows (Pclass=1, known Embarked) ==\")\n",
    "print(near[\"Embarked\"].value_counts())"
   ]
  },
  {
   "cell_type": "code",
   "execution_count": 17,
   "id": "258f0f34-3cdd-4bd9-9ecb-c7ead4308073",
   "metadata": {
    "scrolled": true
   },
   "outputs": [
    {
     "name": "stdout",
     "output_type": "stream",
     "text": [
      "== Age median by Pclass × Sex ==\n",
      "Sex     female  male\n",
      "Pclass              \n",
      "1         35.0  40.0\n",
      "2         28.0  30.0\n",
      "3         21.5  25.0\n",
      "\n",
      "== Age non-null count by Pclass × Sex ==\n",
      "Sex     female  male\n",
      "Pclass              \n",
      "1           85   101\n",
      "2           74    99\n",
      "3          102   253\n"
     ]
    }
   ],
   "source": [
    "# Pclass×Sex ごとの Age の中央値と有効件数（欠損除く）\n",
    "grp = train.groupby([\"Pclass\",\"Sex\"])[\"Age\"]\n",
    "med = grp.median().round(1).unstack()   # 中央値\n",
    "cnt = grp.count().unstack()             # 欠損を除いた件数\n",
    "\n",
    "print(\"== Age median by Pclass × Sex ==\")\n",
    "print(med)\n",
    "print(\"\\n== Age non-null count by Pclass × Sex ==\")\n",
    "print(cnt)"
   ]
  },
  {
   "cell_type": "code",
   "execution_count": 18,
   "id": "983c4977-8125-45ff-98d6-0bd82a8a0435",
   "metadata": {},
   "outputs": [
    {
     "name": "stdout",
     "output_type": "stream",
     "text": [
      "== test 欠損数 ==\n",
      "Cabin          327\n",
      "Age             86\n",
      "Fare             1\n",
      "PassengerId      0\n",
      "Pclass           0\n",
      "Name             0\n",
      "Sex              0\n",
      "SibSp            0\n",
      "Parch            0\n",
      "Ticket           0\n",
      "Embarked         0\n",
      "dtype: int64\n"
     ]
    }
   ],
   "source": [
    "#テストの欠損も確認する。あくまで見て確認するだけで、学習ではないからOK\n",
    "print(\"== test 欠損数 ==\")\n",
    "print(test.isna().sum().sort_values(ascending=False))"
   ]
  },
  {
   "cell_type": "code",
   "execution_count": 19,
   "id": "4370625f-dcd0-444d-9158-fdf54a1325f2",
   "metadata": {},
   "outputs": [
    {
     "data": {
      "text/html": [
       "<div>\n",
       "<style scoped>\n",
       "    .dataframe tbody tr th:only-of-type {\n",
       "        vertical-align: middle;\n",
       "    }\n",
       "\n",
       "    .dataframe tbody tr th {\n",
       "        vertical-align: top;\n",
       "    }\n",
       "\n",
       "    .dataframe thead th {\n",
       "        text-align: right;\n",
       "    }\n",
       "</style>\n",
       "<table border=\"1\" class=\"dataframe\">\n",
       "  <thead>\n",
       "    <tr style=\"text-align: right;\">\n",
       "      <th></th>\n",
       "      <th>PassengerId</th>\n",
       "      <th>Pclass</th>\n",
       "      <th>Sex</th>\n",
       "      <th>Embarked</th>\n",
       "      <th>Ticket</th>\n",
       "      <th>Cabin</th>\n",
       "    </tr>\n",
       "  </thead>\n",
       "  <tbody>\n",
       "    <tr>\n",
       "      <th>152</th>\n",
       "      <td>1044</td>\n",
       "      <td>3</td>\n",
       "      <td>male</td>\n",
       "      <td>S</td>\n",
       "      <td>3701</td>\n",
       "      <td>NaN</td>\n",
       "    </tr>\n",
       "  </tbody>\n",
       "</table>\n",
       "</div>"
      ],
      "text/plain": [
       "     PassengerId  Pclass   Sex Embarked Ticket Cabin\n",
       "152         1044       3  male        S   3701   NaN"
      ]
     },
     "execution_count": 19,
     "metadata": {},
     "output_type": "execute_result"
    }
   ],
   "source": [
    "na_fare = test[test[\"Fare\"].isna()][[\"PassengerId\",\"Pclass\",\"Sex\",\"Embarked\",\"Ticket\",\"Cabin\"]]\n",
    "na_fare"
   ]
  },
  {
   "cell_type": "code",
   "execution_count": 21,
   "id": "f0c422ed-cd24-423a-a03b-96a34874dab2",
   "metadata": {},
   "outputs": [],
   "source": [
    "#以下、前処理を行っていく。\n",
    "#Embarked欠損（train）： 'C' で補完。\n",
    "#Age欠損： Pclass×Sexの中央値で補完（各グループ件数も十分）\n",
    "#Fareの扱い： log1p(Fare) を作成＋ HighFareフラグ（trainの99%分位≈249以上）\n",
    "#testのFare欠損1件： (Pclass, Embarked)ごとのtrain中央値で埋める\n",
    "#いずれも 基準はtrainだけで算出→testには“適用のみ”（リーク防止）"
   ]
  },
  {
   "cell_type": "code",
   "execution_count": 28,
   "id": "30840ed3-fa6c-4587-8085-f717e4738760",
   "metadata": {},
   "outputs": [
    {
     "name": "stdout",
     "output_type": "stream",
     "text": [
      "Keys: dict_keys(['age_median_tbl', 'fare_median_tbl', 'fare_q99', 'embarked_fill_value'])\n",
      "\n",
      "fare_q99: 249.01\n",
      "\n",
      "Age median table (head):\n",
      "Pclass  Sex   \n",
      "1       female    35.0\n",
      "        male      40.0\n",
      "2       female    28.0\n",
      "        male      30.0\n",
      "3       female    21.5\n",
      "Name: Age, dtype: float64\n",
      "\n",
      "Fare median table (head):\n",
      "Pclass  Embarked\n",
      "1       C           78.2667\n",
      "        Q           90.0000\n",
      "        S           52.0000\n",
      "2       C           24.0000\n",
      "        Q           12.3500\n",
      "Name: Fare, dtype: float64\n"
     ]
    }
   ],
   "source": [
    "# 前処理に必要な「train由来の統計」を作って保存するだけ（変換・補完はまだしない）\n",
    "def fit_preproc_stats(train_df):\n",
    "    stats = {}\n",
    "\n",
    "    # Age: Pclass×Sex の中央値（補完に使う）\n",
    "    stats[\"age_median_tbl\"] = train_df.groupby([\"Pclass\",\"Sex\"])[\"Age\"].median()\n",
    "\n",
    "    # Fare: Pclass×Embarked の中央値（testのFare欠損=1件の補完に使う）\n",
    "    stats[\"fare_median_tbl\"] = train_df.groupby([\"Pclass\",\"Embarked\"])[\"Fare\"].median()\n",
    "\n",
    "    # Fare: 99%しきい（HighFareフラグ用）\n",
    "    stats[\"fare_q99\"] = float(train_df[\"Fare\"].quantile(0.99))\n",
    "\n",
    "    # Embarked: trainの欠損は “C” で補完（方針として固定）\n",
    "    stats[\"embarked_fill_value\"] = \"C\"\n",
    "\n",
    "    return stats\n",
    "\n",
    "preproc_stats = fit_preproc_stats(train)\n",
    "print(\"Keys:\", preproc_stats.keys())\n",
    "print()\n",
    "\n",
    "print(\"fare_q99:\", round(preproc_stats[\"fare_q99\"], 2))\n",
    "\n",
    "print(\"\\nAge median table (head):\")\n",
    "print(preproc_stats[\"age_median_tbl\"].head())\n",
    "\n",
    "print(\"\\nFare median table (head):\")\n",
    "print(preproc_stats[\"fare_median_tbl\"].head())"
   ]
  },
  {
   "cell_type": "code",
   "execution_count": 22,
   "id": "96855e03-8ba6-447a-a6fd-6438a5073848",
   "metadata": {},
   "outputs": [
    {
     "name": "stdout",
     "output_type": "stream",
     "text": [
      "Embarked NaNs (train): 2 -> 0\n",
      "Embarked NaNs (test): 0 -> 0\n"
     ]
    }
   ],
   "source": [
    "# 作業用コピー\n",
    "train1 = train.copy()\n",
    "test1  = test.copy()\n",
    "\n",
    "# ルール：Embarked 欠損は \"C\" で補完（trainからの検討結果）\n",
    "train1[\"Embarked\"] = train1[\"Embarked\"].fillna(\"C\")\n",
    "test1[\"Embarked\"]  = test1[\"Embarked\"].fillna(\"C\")  # 念のため（通常は欠損0のはず）\n",
    "\n",
    "print(\"Embarked NaNs (train):\", train[\"Embarked\"].isna().sum(), \"->\", train1[\"Embarked\"].isna().sum())\n",
    "print(\"Embarked NaNs (test):\",  test[\"Embarked\"].isna().sum(),  \"->\", test1[\"Embarked\"].isna().sum())"
   ]
  },
  {
   "cell_type": "code",
   "execution_count": 23,
   "id": "f3af8ce7-812a-4f9d-bd39-0bc199b13cb1",
   "metadata": {
    "scrolled": true
   },
   "outputs": [
    {
     "name": "stdout",
     "output_type": "stream",
     "text": [
      "Age NaNs (train): 177 -> 0\n",
      "Age NaNs (test): 86 -> 0\n"
     ]
    }
   ],
   "source": [
    "# 1) 基準（trainだけで学習）\n",
    "age_median_tbl = train.groupby([\"Pclass\",\"Sex\"])[\"Age\"].median()\n",
    "\n",
    "# 2) 適用用の小関数（元dfは触らない）\n",
    "def apply_age_group_median(df, age_tbl):\n",
    "    out = df.copy()\n",
    "    out = out.merge(age_tbl.rename(\"Age_median\"), on=[\"Pclass\",\"Sex\"], how=\"left\")\n",
    "    mask = out[\"Age\"].isna()\n",
    "    out.loc[mask, \"Age\"] = out.loc[mask, \"Age_median\"]\n",
    "    out = out.drop(columns=[\"Age_median\"])\n",
    "    return out\n",
    "\n",
    "# 3) train/testの作業用コピーに適用（train1/test1 は Embarked 補完済み）\n",
    "train2 = apply_age_group_median(train1, age_median_tbl)\n",
    "test2  = apply_age_group_median(test1,  age_median_tbl)\n",
    "\n",
    "print(\"Age NaNs (train):\", train1[\"Age\"].isna().sum(), \"->\", train2[\"Age\"].isna().sum())\n",
    "print(\"Age NaNs (test):\",  test1[\"Age\"].isna().sum(),  \"->\", test2[\"Age\"].isna().sum())"
   ]
  },
  {
   "cell_type": "code",
   "execution_count": 29,
   "id": "6118aae1-5329-4754-b417-ef0ac0d55d61",
   "metadata": {},
   "outputs": [
    {
     "name": "stdout",
     "output_type": "stream",
     "text": [
      "Fare NaNs (train): 0 -> 0\n",
      "Fare NaNs (test): 1 -> 0\n"
     ]
    }
   ],
   "source": [
    "# 0) 学習（train2 からだけ計算）\n",
    "fare_tbl = (\n",
    "    train2.groupby([\"Pclass\",\"Embarked\"])[\"Fare\"]\n",
    "          .median()\n",
    "          .rename(\"Fare_med\")\n",
    "          .reset_index()\n",
    ")\n",
    "fare_q99 = float(train2[\"Fare\"].quantile(0.99))  # HighFare しきい\n",
    "\n",
    "# 1) 欠損埋め（同じ基準を train/test に適用）\n",
    "def fill_fare(df):\n",
    "    out = df.merge(fare_tbl, on=[\"Pclass\",\"Embarked\"], how=\"left\")\n",
    "    out[\"Fare\"] = out[\"Fare\"].fillna(out[\"Fare_med\"])\n",
    "    return out.drop(columns=\"Fare_med\")\n",
    "\n",
    "train3 = fill_fare(train2)\n",
    "test3  = fill_fare(test2)\n",
    "\n",
    "print(\"Fare NaNs (train):\", train2[\"Fare\"].isna().sum(), \"->\", train3[\"Fare\"].isna().sum())\n",
    "print(\"Fare NaNs (test):\",  test2[\"Fare\"].isna().sum(),  \"->\", test3[\"Fare\"].isna().sum())"
   ]
  },
  {
   "cell_type": "code",
   "execution_count": 31,
   "id": "ec4af1ce-e9b4-4de0-8a2d-c6609be28bde",
   "metadata": {},
   "outputs": [],
   "source": [
    "#以下で強い特徴量を追加しておく。そうすると、モデル比較のときに便利"
   ]
  },
  {
   "cell_type": "code",
   "execution_count": 30,
   "id": "b35f60de-99a5-4f28-93ba-3e9b39984f02",
   "metadata": {},
   "outputs": [
    {
     "name": "stdout",
     "output_type": "stream",
     "text": [
      "fare_q99: 249.01\n"
     ]
    }
   ],
   "source": [
    "# 2) 変換とフラグ（両方に同じ処理）\n",
    "import numpy as np\n",
    "for df in (train3, test3):\n",
    "    df[\"Fare_log1p\"] = np.log1p(df[\"Fare\"])\n",
    "    df[\"HighFare\"]   = (df[\"Fare\"] >= fare_q99).astype(int)\n",
    "\n",
    "print(\"fare_q99:\", round(fare_q99, 2))"
   ]
  },
  {
   "cell_type": "code",
   "execution_count": 32,
   "id": "123c8ebc-e8df-4f5f-9542-68aa1abbaa57",
   "metadata": {},
   "outputs": [
    {
     "name": "stdout",
     "output_type": "stream",
     "text": [
      "Added cols present? -> True\n",
      "   FamilySize  IsAlone  WomanChild  MotherLite  TicketGroupSize  \\\n",
      "0           2        0           0           0                1   \n",
      "1           2        0           1           0                1   \n",
      "2           1        1           1           0                1   \n",
      "3           2        0           1           0                2   \n",
      "4           1        1           0           0                1   \n",
      "\n",
      "   TicketIsShared  FarePerPerson  FarePerPerson_log1p Pclass_Sex  \n",
      "0               0         7.2500             2.110213     3_male  \n",
      "1               0        71.2833             4.280593   1_female  \n",
      "2               0         7.9250             2.188856   3_female  \n",
      "3               1        26.5500             3.316003   1_female  \n",
      "4               0         8.0500             2.202765     3_male  \n"
     ]
    }
   ],
   "source": [
    "import numpy as np\n",
    "import pandas as pd\n",
    "\n",
    "# === 1) 家族系 ===\n",
    "for df in (train3, test3):\n",
    "    df[\"FamilySize\"] = (df[\"SibSp\"] + df[\"Parch\"] + 1).astype(int)\n",
    "    df[\"IsAlone\"]    = (df[\"FamilySize\"] == 1).astype(int)\n",
    "\n",
    "# === 2) Woman/Child/Mother（Title無し版） ===\n",
    "for df in (train3, test3):\n",
    "    df[\"WomanChild\"] = ((df[\"Sex\"] == \"female\") | (df[\"Age\"] < 16)).astype(int)\n",
    "    # Titleを使わない近似（Missを厳密に除外できない点は承知の上で）\n",
    "    df[\"MotherLite\"] = (\n",
    "        (df[\"Sex\"] == \"female\") & (df[\"Age\"] >= 18) & (df[\"Parch\"] > 0)\n",
    "    ).astype(int)\n",
    "\n",
    "# === 3) Ticketグループ & 一人あたり運賃 ===\n",
    "def add_ticket_group_features(df):\n",
    "    out = df.copy()\n",
    "    grp_size = out.groupby(\"Ticket\")[\"Ticket\"].transform(\"count\").astype(int)\n",
    "    out[\"TicketGroupSize\"] = grp_size\n",
    "    out[\"TicketIsShared\"]  = (grp_size > 1).astype(int)\n",
    "    out[\"FarePerPerson\"] = out[\"Fare\"] / grp_size.clip(lower=1)\n",
    "    out[\"FarePerPerson_log1p\"] = np.log1p(out[\"FarePerPerson\"])\n",
    "    return out\n",
    "\n",
    "train3 = add_ticket_group_features(train3)\n",
    "test3  = add_ticket_group_features(test3)\n",
    "\n",
    "# === 4) 相互作用（カテゴリ結合）===\n",
    "for df in (train3, test3):\n",
    "    df[\"Pclass_Sex\"] = df[\"Pclass\"].astype(str) + \"_\" + df[\"Sex\"]\n",
    "\n",
    "# クイック確認\n",
    "cols = [\"FamilySize\",\"IsAlone\",\"WomanChild\",\"MotherLite\",\n",
    "        \"TicketGroupSize\",\"TicketIsShared\",\"FarePerPerson\",\"FarePerPerson_log1p\",\"Pclass_Sex\"]\n",
    "print(\"Added cols present? ->\", all(c in train3.columns for c in cols))\n",
    "print(train3[cols].head())"
   ]
  },
  {
   "cell_type": "code",
   "execution_count": 38,
   "id": "b09ae7c1-25b0-46c8-a5db-92f30f5630df",
   "metadata": {},
   "outputs": [],
   "source": [
    "#以下、モデル比較を行う"
   ]
  },
  {
   "cell_type": "code",
   "execution_count": 33,
   "id": "21face1a-c2b9-4887-b7f0-64b3e5b47cd4",
   "metadata": {},
   "outputs": [
    {
     "name": "stdout",
     "output_type": "stream",
     "text": [
      "LogReg 5-fold ACC: 0.8305 +/- 0.0146\n",
      "LogReg 5-fold AUC: 0.8657 +/- 0.0169\n"
     ]
    }
   ],
   "source": [
    "import pandas as pd\n",
    "from sklearn.compose import ColumnTransformer\n",
    "from sklearn.preprocessing import OneHotEncoder, StandardScaler\n",
    "from sklearn.pipeline import Pipeline\n",
    "from sklearn.model_selection import StratifiedKFold, cross_val_score\n",
    "from sklearn.linear_model import LogisticRegression\n",
    "\n",
    "# 使う特徴（Tier1・Titleなし）\n",
    "base_feats = [\n",
    "    \"Pclass\",\"Sex\",\"Embarked\",\"Age\",\"SibSp\",\"Parch\",\"Fare_log1p\",\n",
    "    \"FamilySize\",\"IsAlone\",\"WomanChild\",\"MotherLite\",\n",
    "    \"TicketGroupSize\",\"TicketIsShared\",\"FarePerPerson_log1p\",\"Pclass_Sex\"\n",
    "]\n",
    "\n",
    "# データ準備\n",
    "use_cols = [c for c in base_feats if c in train3.columns]\n",
    "X = train3[use_cols].copy()\n",
    "y = train3[\"Survived\"].astype(int)\n",
    "\n",
    "# 数値/カテゴリの仕分け\n",
    "num_cols = [c for c in use_cols if pd.api.types.is_numeric_dtype(X[c])]\n",
    "cat_cols = [c for c in use_cols if c not in num_cols]\n",
    "\n",
    "# 前処理 + モデル\n",
    "pre = ColumnTransformer([\n",
    "    (\"num\", StandardScaler(), num_cols),\n",
    "    (\"cat\", OneHotEncoder(handle_unknown=\"ignore\"), cat_cols),\n",
    "])\n",
    "pipe_log = Pipeline([(\"prep\", pre), (\"clf\", LogisticRegression(max_iter=2000))])\n",
    "\n",
    "# 5分割CVで評価\n",
    "cv = StratifiedKFold(n_splits=5, shuffle=True, random_state=42)\n",
    "acc = cross_val_score(pipe_log, X, y, cv=cv, scoring=\"accuracy\")\n",
    "auc = cross_val_score(pipe_log, X, y, cv=cv, scoring=\"roc_auc\")\n",
    "\n",
    "print(\"LogReg 5-fold ACC:\", round(acc.mean(),4), \"+/-\", round(acc.std(),4))\n",
    "print(\"LogReg 5-fold AUC:\", round(auc.mean(),4), \"+/-\", round(auc.std(),4))"
   ]
  },
  {
   "cell_type": "code",
   "execution_count": 34,
   "id": "d238a30b-b092-497c-8bc7-a5e5a2a32deb",
   "metadata": {},
   "outputs": [
    {
     "name": "stdout",
     "output_type": "stream",
     "text": [
      "SVC 5-fold ACC: 0.8238 +/- 0.0137\n",
      "SVC 5-fold AUC: 0.8658 +/- 0.0254\n"
     ]
    }
   ],
   "source": [
    "import pandas as pd\n",
    "from sklearn.compose import ColumnTransformer\n",
    "from sklearn.preprocessing import OneHotEncoder, StandardScaler\n",
    "from sklearn.pipeline import Pipeline\n",
    "from sklearn.model_selection import StratifiedKFold, cross_val_score\n",
    "from sklearn.svm import SVC\n",
    "\n",
    "# 使う特徴（Tier1・Titleなし）\n",
    "base_feats = [\n",
    "    \"Pclass\",\"Sex\",\"Embarked\",\"Age\",\"SibSp\",\"Parch\",\"Fare_log1p\",\n",
    "    \"FamilySize\",\"IsAlone\",\"WomanChild\",\"MotherLite\",\n",
    "    \"TicketGroupSize\",\"TicketIsShared\",\"FarePerPerson_log1p\",\"Pclass_Sex\"\n",
    "]\n",
    "\n",
    "# データ準備\n",
    "use_cols = [c for c in base_feats if c in train3.columns]\n",
    "X = train3[use_cols].copy()\n",
    "y = train3[\"Survived\"].astype(int)\n",
    "\n",
    "# 数値/カテゴリの仕分け\n",
    "num_cols = [c for c in use_cols if pd.api.types.is_numeric_dtype(X[c])]\n",
    "cat_cols = [c for c in use_cols if c not in num_cols]\n",
    "\n",
    "# 前処理 + モデル（SVCは標準化が効く）\n",
    "pre = ColumnTransformer([\n",
    "    (\"num\", StandardScaler(), num_cols),\n",
    "    (\"cat\", OneHotEncoder(handle_unknown=\"ignore\"), cat_cols),\n",
    "])\n",
    "pipe_svc = Pipeline([\n",
    "    (\"prep\", pre),\n",
    "    (\"clf\", SVC(kernel=\"rbf\", probability=True))  # probability=True は AUC 用\n",
    "])\n",
    "\n",
    "# 5分割CVで評価\n",
    "cv = StratifiedKFold(n_splits=5, shuffle=True, random_state=42)\n",
    "acc = cross_val_score(pipe_svc, X, y, cv=cv, scoring=\"accuracy\")\n",
    "auc = cross_val_score(pipe_svc, X, y, cv=cv, scoring=\"roc_auc\")\n",
    "\n",
    "print(\"SVC 5-fold ACC:\", round(acc.mean(),4), \"+/-\", round(acc.std(),4))\n",
    "print(\"SVC 5-fold AUC:\", round(auc.mean(),4), \"+/-\", round(auc.std(),4))"
   ]
  },
  {
   "cell_type": "code",
   "execution_count": 35,
   "id": "fe799557-5f6c-4c4d-9107-eab011405bef",
   "metadata": {},
   "outputs": [
    {
     "name": "stdout",
     "output_type": "stream",
     "text": [
      "RF 5-fold ACC: 0.8058 +/- 0.0133\n",
      "RF 5-fold AUC: 0.8741 +/- 0.0222\n"
     ]
    }
   ],
   "source": [
    "import pandas as pd\n",
    "from sklearn.compose import ColumnTransformer\n",
    "from sklearn.preprocessing import OneHotEncoder\n",
    "from sklearn.pipeline import Pipeline\n",
    "from sklearn.model_selection import StratifiedKFold, cross_val_score\n",
    "from sklearn.ensemble import RandomForestClassifier\n",
    "\n",
    "# 使う特徴（Tier1・Titleなし）+ HighFare（あれば）\n",
    "base_feats = [\n",
    "    \"Pclass\",\"Sex\",\"Embarked\",\"Age\",\"SibSp\",\"Parch\",\"Fare_log1p\",\n",
    "    \"FamilySize\",\"IsAlone\",\"WomanChild\",\"MotherLite\",\n",
    "    \"TicketGroupSize\",\"TicketIsShared\",\"FarePerPerson_log1p\",\"Pclass_Sex\"\n",
    "]\n",
    "rf_feats = base_feats + ([\"HighFare\"] if \"HighFare\" in train3.columns else [])\n",
    "\n",
    "# データ準備\n",
    "use_cols = [c for c in rf_feats if c in train3.columns]\n",
    "X = train3[use_cols].copy()\n",
    "y = train3[\"Survived\"].astype(int)\n",
    "\n",
    "# 数値/カテゴリの仕分け\n",
    "num_cols = [c for c in use_cols if pd.api.types.is_numeric_dtype(X[c])]\n",
    "cat_cols = [c for c in use_cols if c not in num_cols]\n",
    "\n",
    "# 前処理：数値はそのまま、カテゴリはOne-Hot\n",
    "pre = ColumnTransformer([\n",
    "    (\"num\", \"passthrough\", num_cols),\n",
    "    (\"cat\", OneHotEncoder(handle_unknown=\"ignore\"), cat_cols),\n",
    "])\n",
    "\n",
    "pipe_rf = Pipeline([\n",
    "    (\"prep\", pre),\n",
    "    (\"clf\", RandomForestClassifier(\n",
    "        n_estimators=400,\n",
    "        random_state=42,\n",
    "        n_jobs=-1\n",
    "    ))\n",
    "])\n",
    "\n",
    "# 5分割CVで評価\n",
    "cv = StratifiedKFold(n_splits=5, shuffle=True, random_state=42)\n",
    "acc = cross_val_score(pipe_rf, X, y, cv=cv, scoring=\"accuracy\")\n",
    "auc = cross_val_score(pipe_rf, X, y, cv=cv, scoring=\"roc_auc\")\n",
    "\n",
    "print(\"RF 5-fold ACC:\", round(acc.mean(),4), \"+/-\", round(acc.std(),4))\n",
    "print(\"RF 5-fold AUC:\", round(auc.mean(),4), \"+/-\", round(auc.std(),4))"
   ]
  },
  {
   "cell_type": "code",
   "execution_count": 39,
   "id": "f1d0bab3-2c72-465d-98e0-6d505e42878c",
   "metadata": {},
   "outputs": [],
   "source": [
    "#以下、ハイパーパラメータ最適化、チューニングを行う"
   ]
  },
  {
   "cell_type": "code",
   "execution_count": 36,
   "id": "aae44990-d6cf-433a-8458-58e9111616ab",
   "metadata": {},
   "outputs": [
    {
     "name": "stdout",
     "output_type": "stream",
     "text": [
      "Best ACC: 0.8305\n",
      "Best params: {'clf__C': 0.1, 'clf__penalty': 'l2', 'clf__solver': 'lbfgs'}\n",
      "   mean_test_score  param_clf__C\n",
      "0         0.830519           0.1\n",
      "2         0.830507           1.0\n",
      "1         0.829396           0.3\n",
      "4         0.828278          10.0\n",
      "3         0.826031           3.0\n"
     ]
    }
   ],
   "source": [
    "import pandas as pd\n",
    "from sklearn.compose import ColumnTransformer\n",
    "from sklearn.preprocessing import OneHotEncoder, StandardScaler\n",
    "from sklearn.pipeline import Pipeline\n",
    "from sklearn.model_selection import StratifiedKFold, GridSearchCV\n",
    "from sklearn.linear_model import LogisticRegression\n",
    "\n",
    "# 使う特徴（Tier1・Titleなし）\n",
    "base_feats = [\n",
    "    \"Pclass\",\"Sex\",\"Embarked\",\"Age\",\"SibSp\",\"Parch\",\"Fare_log1p\",\n",
    "    \"FamilySize\",\"IsAlone\",\"WomanChild\",\"MotherLite\",\n",
    "    \"TicketGroupSize\",\"TicketIsShared\",\"FarePerPerson_log1p\",\"Pclass_Sex\"\n",
    "]\n",
    "\n",
    "# データ準備\n",
    "use_cols = [c for c in base_feats if c in train3.columns]\n",
    "X = train3[use_cols].copy()\n",
    "y = train3[\"Survived\"].astype(int)\n",
    "\n",
    "# 数値/カテゴリの仕分け\n",
    "num_cols = [c for c in use_cols if pd.api.types.is_numeric_dtype(X[c])]\n",
    "cat_cols = [c for c in use_cols if c not in num_cols]\n",
    "\n",
    "# 前処理 + モデル\n",
    "pre = ColumnTransformer([\n",
    "    (\"num\", StandardScaler(), num_cols),\n",
    "    (\"cat\", OneHotEncoder(handle_unknown=\"ignore\"), cat_cols),\n",
    "])\n",
    "pipe_log = Pipeline([(\"prep\", pre), (\"clf\", LogisticRegression(max_iter=2000))])\n",
    "\n",
    "# 5-fold CV\n",
    "cv = StratifiedKFold(n_splits=5, shuffle=True, random_state=42)\n",
    "\n",
    "# グリッド（Cだけまず最適化）\n",
    "param_log = {\n",
    "    \"clf__C\": [0.1, 0.3, 1, 3, 10],\n",
    "    \"clf__penalty\": [\"l2\"],\n",
    "    \"clf__solver\": [\"lbfgs\"],\n",
    "}\n",
    "\n",
    "grid_log = GridSearchCV(pipe_log, param_log, cv=cv, scoring=\"accuracy\", n_jobs=-1, return_train_score=False)\n",
    "grid_log.fit(X, y)\n",
    "\n",
    "print(\"Best ACC:\", round(grid_log.best_score_, 4))\n",
    "print(\"Best params:\", grid_log.best_params_)\n",
    "\n",
    "# ざっくり結果表（上位）\n",
    "res = (pd.DataFrame(grid_log.cv_results_)\n",
    "         .sort_values(\"mean_test_score\", ascending=False)\n",
    "         [[\"mean_test_score\",\"param_clf__C\"]]\n",
    "         .head(10))\n",
    "print(res)"
   ]
  },
  {
   "cell_type": "code",
   "execution_count": 37,
   "id": "08ffcba6-1e80-4edc-9aee-0810a6e9c780",
   "metadata": {},
   "outputs": [
    {
     "name": "stdout",
     "output_type": "stream",
     "text": [
      "Best ACC: 0.8294\n",
      "Best params: {'clf__C': 0.3, 'clf__gamma': 0.03, 'clf__kernel': 'rbf', 'clf__probability': True}\n",
      "    mean_test_score  param_clf__C param_clf__gamma\n",
      "1          0.829402           0.3             0.03\n",
      "0          0.829396           0.3            scale\n",
      "6          0.828272           1.0             0.03\n",
      "11         0.828266           3.0             0.03\n",
      "2          0.827155           0.3              0.1\n",
      "10         0.823784           3.0            scale\n",
      "5          0.823784           1.0            scale\n",
      "16         0.822648          10.0             0.03\n",
      "7          0.821543           1.0              0.1\n",
      "13         0.820426           3.0              0.3\n"
     ]
    }
   ],
   "source": [
    "import pandas as pd\n",
    "from sklearn.compose import ColumnTransformer\n",
    "from sklearn.preprocessing import OneHotEncoder, StandardScaler\n",
    "from sklearn.pipeline import Pipeline\n",
    "from sklearn.model_selection import StratifiedKFold, GridSearchCV\n",
    "from sklearn.svm import SVC\n",
    "\n",
    "# 使う特徴（Tier1・Titleなし）\n",
    "base_feats = [\n",
    "    \"Pclass\",\"Sex\",\"Embarked\",\"Age\",\"SibSp\",\"Parch\",\"Fare_log1p\",\n",
    "    \"FamilySize\",\"IsAlone\",\"WomanChild\",\"MotherLite\",\n",
    "    \"TicketGroupSize\",\"TicketIsShared\",\"FarePerPerson_log1p\",\"Pclass_Sex\"\n",
    "]\n",
    "\n",
    "use_cols = [c for c in base_feats if c in train3.columns]\n",
    "X = train3[use_cols].copy()\n",
    "y = train3[\"Survived\"].astype(int)\n",
    "\n",
    "num_cols = [c for c in use_cols if pd.api.types.is_numeric_dtype(X[c])]\n",
    "cat_cols = [c for c in use_cols if c not in num_cols]\n",
    "\n",
    "pre = ColumnTransformer([\n",
    "    (\"num\", StandardScaler(), num_cols),\n",
    "    (\"cat\", OneHotEncoder(handle_unknown=\"ignore\"), cat_cols),\n",
    "])\n",
    "\n",
    "pipe_svc = Pipeline([\n",
    "    (\"prep\", pre),\n",
    "    (\"clf\", SVC(kernel=\"rbf\", probability=True))\n",
    "])\n",
    "\n",
    "cv = StratifiedKFold(n_splits=5, shuffle=True, random_state=42)\n",
    "\n",
    "param_svc = {\n",
    "    \"clf__C\": [0.3, 1, 3, 10],\n",
    "    \"clf__gamma\": [\"scale\", 0.03, 0.1, 0.3, 1.0],\n",
    "    \"clf__kernel\": [\"rbf\"],\n",
    "    \"clf__probability\": [True],\n",
    "}\n",
    "\n",
    "grid_svc = GridSearchCV(pipe_svc, param_svc, cv=cv, scoring=\"accuracy\", n_jobs=-1, return_train_score=False)\n",
    "grid_svc.fit(X, y)\n",
    "\n",
    "print(\"Best ACC:\", round(grid_svc.best_score_, 4))\n",
    "print(\"Best params:\", grid_svc.best_params_)\n",
    "\n",
    "res = (pd.DataFrame(grid_svc.cv_results_)\n",
    "         .sort_values(\"mean_test_score\", ascending=False)\n",
    "         [[\"mean_test_score\",\"param_clf__C\",\"param_clf__gamma\"]]\n",
    "         .head(10))\n",
    "print(res)"
   ]
  },
  {
   "cell_type": "code",
   "execution_count": 40,
   "id": "dc0e6c14-1ed0-4d2e-ae99-66a3010e92fa",
   "metadata": {},
   "outputs": [
    {
     "name": "stdout",
     "output_type": "stream",
     "text": [
      "Best ACC: 0.8462\n",
      "Best params: {'clf__max_depth': 8, 'clf__max_features': 0.5, 'clf__min_samples_leaf': 1, 'clf__n_estimators': 800}\n",
      "    mean_test_score  param_clf__n_estimators param_clf__max_depth  \\\n",
      "29         0.846218                      800                    8   \n",
      "28         0.846218                      500                    8   \n",
      "27         0.843965                      300                    8   \n",
      "34         0.842854                      500                    8   \n",
      "33         0.842854                      300                    8   \n",
      "30         0.842854                      300                    8   \n",
      "70         0.842841                      500                   16   \n",
      "52         0.842841                      500                   12   \n",
      "16         0.842841                      500                 None   \n",
      "15         0.841717                      300                 None   \n",
      "\n",
      "    param_clf__min_samples_leaf param_clf__max_features  \n",
      "29                            1                     0.5  \n",
      "28                            1                     0.5  \n",
      "27                            1                     0.5  \n",
      "34                            4                     0.5  \n",
      "33                            4                     0.5  \n",
      "30                            2                     0.5  \n",
      "70                            4                     0.5  \n",
      "52                            4                     0.5  \n",
      "16                            4                     0.5  \n",
      "15                            4                     0.5  \n"
     ]
    }
   ],
   "source": [
    "import pandas as pd\n",
    "from sklearn.compose import ColumnTransformer\n",
    "from sklearn.preprocessing import OneHotEncoder\n",
    "from sklearn.pipeline import Pipeline\n",
    "from sklearn.model_selection import StratifiedKFold, GridSearchCV\n",
    "from sklearn.ensemble import RandomForestClassifier\n",
    "\n",
    "# 使う特徴（Tier1・Titleなし）+ HighFare（あれば）\n",
    "base_feats = [\n",
    "    \"Pclass\",\"Sex\",\"Embarked\",\"Age\",\"SibSp\",\"Parch\",\"Fare_log1p\",\n",
    "    \"FamilySize\",\"IsAlone\",\"WomanChild\",\"MotherLite\",\n",
    "    \"TicketGroupSize\",\"TicketIsShared\",\"FarePerPerson_log1p\",\"Pclass_Sex\"\n",
    "]\n",
    "rf_feats = base_feats + ([\"HighFare\"] if \"HighFare\" in train3.columns else [])\n",
    "\n",
    "use_cols = [c for c in rf_feats if c in train3.columns]\n",
    "X = train3[use_cols].copy()\n",
    "y = train3[\"Survived\"].astype(int)\n",
    "\n",
    "num_cols = [c for c in use_cols if pd.api.types.is_numeric_dtype(X[c])]\n",
    "cat_cols = [c for c in use_cols if c not in num_cols]\n",
    "\n",
    "pre = ColumnTransformer([\n",
    "    (\"num\", \"passthrough\", num_cols),\n",
    "    (\"cat\", OneHotEncoder(handle_unknown=\"ignore\"), cat_cols),\n",
    "])\n",
    "\n",
    "pipe_rf = Pipeline([\n",
    "    (\"prep\", pre),\n",
    "    (\"clf\", RandomForestClassifier(random_state=42, n_jobs=-1))\n",
    "])\n",
    "\n",
    "cv = StratifiedKFold(n_splits=5, shuffle=True, random_state=42)\n",
    "\n",
    "# 軽めのグリッド（精度寄り：深さ・葉のサイズ・特徴数）\n",
    "param_rf = {\n",
    "    \"clf__n_estimators\": [300, 500, 800],\n",
    "    \"clf__max_depth\": [None, 8, 12, 16],\n",
    "    \"clf__min_samples_leaf\": [1, 2, 4],\n",
    "    \"clf__max_features\": [\"sqrt\", 0.5],\n",
    "}\n",
    "\n",
    "grid_rf = GridSearchCV(pipe_rf, param_rf, cv=cv, scoring=\"accuracy\", n_jobs=-1, return_train_score=False)\n",
    "grid_rf.fit(X, y)\n",
    "\n",
    "print(\"Best ACC:\", round(grid_rf.best_score_, 4))\n",
    "print(\"Best params:\", grid_rf.best_params_)\n",
    "\n",
    "res = (pd.DataFrame(grid_rf.cv_results_)\n",
    "         .sort_values(\"mean_test_score\", ascending=False)\n",
    "         [[\"mean_test_score\",\"param_clf__n_estimators\",\n",
    "           \"param_clf__max_depth\",\"param_clf__min_samples_leaf\",\"param_clf__max_features\"]]\n",
    "         .head(10))\n",
    "print(res)"
   ]
  },
  {
   "cell_type": "code",
   "execution_count": 41,
   "id": "a68b1b85-c899-4849-9d85-441006e901d4",
   "metadata": {},
   "outputs": [],
   "source": [
    "#最終RFで学習 → 提出ファイル作成（submission.csv）"
   ]
  },
  {
   "cell_type": "code",
   "execution_count": 42,
   "id": "70b1b794-a5dd-4623-bfaa-2e8de4ed0626",
   "metadata": {},
   "outputs": [
    {
     "data": {
      "text/html": [
       "<div>\n",
       "<style scoped>\n",
       "    .dataframe tbody tr th:only-of-type {\n",
       "        vertical-align: middle;\n",
       "    }\n",
       "\n",
       "    .dataframe tbody tr th {\n",
       "        vertical-align: top;\n",
       "    }\n",
       "\n",
       "    .dataframe thead th {\n",
       "        text-align: right;\n",
       "    }\n",
       "</style>\n",
       "<table border=\"1\" class=\"dataframe\">\n",
       "  <thead>\n",
       "    <tr style=\"text-align: right;\">\n",
       "      <th></th>\n",
       "      <th>PassengerId</th>\n",
       "      <th>Survived</th>\n",
       "    </tr>\n",
       "  </thead>\n",
       "  <tbody>\n",
       "    <tr>\n",
       "      <th>0</th>\n",
       "      <td>892</td>\n",
       "      <td>0</td>\n",
       "    </tr>\n",
       "    <tr>\n",
       "      <th>1</th>\n",
       "      <td>893</td>\n",
       "      <td>0</td>\n",
       "    </tr>\n",
       "    <tr>\n",
       "      <th>2</th>\n",
       "      <td>894</td>\n",
       "      <td>0</td>\n",
       "    </tr>\n",
       "    <tr>\n",
       "      <th>3</th>\n",
       "      <td>895</td>\n",
       "      <td>0</td>\n",
       "    </tr>\n",
       "    <tr>\n",
       "      <th>4</th>\n",
       "      <td>896</td>\n",
       "      <td>1</td>\n",
       "    </tr>\n",
       "  </tbody>\n",
       "</table>\n",
       "</div>"
      ],
      "text/plain": [
       "   PassengerId  Survived\n",
       "0          892         0\n",
       "1          893         0\n",
       "2          894         0\n",
       "3          895         0\n",
       "4          896         1"
      ]
     },
     "execution_count": 42,
     "metadata": {},
     "output_type": "execute_result"
    }
   ],
   "source": [
    "import pandas as pd\n",
    "\n",
    "# 1) ベスト推定器を取り出し、train全体で学習\n",
    "best_rf = grid_rf.best_estimator_\n",
    "best_rf.fit(X, y)   # ← X,y は直前のRFグリッドで使ったもの\n",
    "\n",
    "# 2) testデータに同じ前処理→予測\n",
    "X_test = test3[X.columns]   # 列順をXに合わせて安全に\n",
    "preds = best_rf.predict(X_test).astype(int)\n",
    "\n",
    "# 3) 提出用DataFrame\n",
    "sub = pd.DataFrame({\n",
    "    \"PassengerId\": test3[\"PassengerId\"].values,\n",
    "    \"Survived\": preds\n",
    "})\n",
    "# ファイルに保存したいときは ↓ を有効化\n",
    "# sub.to_csv(\"submission.csv\", index=False)\n",
    "\n",
    "sub.head()"
   ]
  },
  {
   "cell_type": "code",
   "execution_count": 43,
   "id": "49af878d-77cf-47f7-8fa2-a6db55847877",
   "metadata": {},
   "outputs": [],
   "source": [
    "#軽い振り返り（重要特徴を確認）"
   ]
  },
  {
   "cell_type": "code",
   "execution_count": 44,
   "id": "06f8392e-0eef-4a4b-bf76-e94474585fc5",
   "metadata": {},
   "outputs": [
    {
     "name": "stdout",
     "output_type": "stream",
     "text": [
      "WomanChild             0.1928\n",
      "Age                    0.1175\n",
      "FarePerPerson_log1p    0.1171\n",
      "Sex_male               0.1001\n",
      "Fare_log1p             0.0972\n",
      "Sex_female             0.0961\n",
      "Pclass                 0.0585\n",
      "FamilySize             0.0412\n",
      "TicketGroupSize        0.0395\n",
      "Pclass_Sex_3_female    0.0249\n",
      "dtype: float64\n"
     ]
    }
   ],
   "source": [
    "import numpy as np\n",
    "import pandas as pd\n",
    "\n",
    "best_rf = grid_rf.best_estimator_\n",
    "\n",
    "# 前処理パイプラインから列名を復元\n",
    "prep = best_rf.named_steps[\"prep\"]\n",
    "num_cols_list = prep.transformers_[0][2]  # (\"num\", \"passthrough\", num_cols)\n",
    "cat_cols_list = prep.transformers_[1][2]  # (\"cat\", OneHotEncoder, cat_cols)\n",
    "ohe = prep.named_transformers_[\"cat\"]\n",
    "cat_feature_names = ohe.get_feature_names_out(cat_cols_list) if len(cat_cols_list)>0 else np.array([])\n",
    "\n",
    "feature_names = np.r_[num_cols_list, cat_feature_names]\n",
    "importances = best_rf.named_steps[\"clf\"].feature_importances_\n",
    "\n",
    "fi = pd.Series(importances, index=feature_names).sort_values(ascending=False)\n",
    "print(fi.head(10).round(4))"
   ]
  },
  {
   "cell_type": "code",
   "execution_count": 45,
   "id": "ac769252-f866-467c-9f3c-610b39d768f0",
   "metadata": {},
   "outputs": [
    {
     "name": "stdout",
     "output_type": "stream",
     "text": [
      "Saved: submission.csv\n"
     ]
    }
   ],
   "source": [
    "sub.to_csv(\"submission.csv\", index=False)\n",
    "print(\"Saved:\", \"submission.csv\")"
   ]
  },
  {
   "cell_type": "code",
   "execution_count": null,
   "id": "bf5b5b3d-e2f0-409f-8f51-9923aa1429d8",
   "metadata": {},
   "outputs": [],
   "source": []
  }
 ],
 "metadata": {
  "kernelspec": {
   "display_name": "Python 3 (ipykernel)",
   "language": "python",
   "name": "python3"
  },
  "language_info": {
   "codemirror_mode": {
    "name": "ipython",
    "version": 3
   },
   "file_extension": ".py",
   "mimetype": "text/x-python",
   "name": "python",
   "nbconvert_exporter": "python",
   "pygments_lexer": "ipython3",
   "version": "3.13.5"
  }
 },
 "nbformat": 4,
 "nbformat_minor": 5
}
